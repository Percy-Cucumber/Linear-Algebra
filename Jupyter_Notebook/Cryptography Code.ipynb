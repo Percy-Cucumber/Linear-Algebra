{
 "cells": [
  {
   "cell_type": "code",
   "execution_count": 1,
   "metadata": {},
   "outputs": [
    {
     "ename": "ValueError",
     "evalue": "operands could not be broadcast together with shapes (12,) (2,2) ",
     "output_type": "error",
     "traceback": [
      "\u001b[0;31m---------------------------------------------------------------------------\u001b[0m",
      "\u001b[0;31mValueError\u001b[0m                                Traceback (most recent call last)",
      "\u001b[0;32m<ipython-input-1-7aee69b20600>\u001b[0m in \u001b[0;36m<module>\u001b[0;34m()\u001b[0m\n\u001b[1;32m     37\u001b[0m \u001b[0;31m# Coding the Message\u001b[0m\u001b[0;34m\u001b[0m\u001b[0;34m\u001b[0m\u001b[0m\n\u001b[1;32m     38\u001b[0m \u001b[0mmtrx\u001b[0m\u001b[0;34m=\u001b[0m\u001b[0mnp\u001b[0m\u001b[0;34m.\u001b[0m\u001b[0marray\u001b[0m\u001b[0;34m(\u001b[0m\u001b[0mmsg\u001b[0m\u001b[0;34m)\u001b[0m\u001b[0;34m\u001b[0m\u001b[0m\n\u001b[0;32m---> 39\u001b[0;31m \u001b[0mcode\u001b[0m\u001b[0;34m=\u001b[0m\u001b[0mmtrx\u001b[0m\u001b[0;34m*\u001b[0m\u001b[0menc\u001b[0m\u001b[0;34m\u001b[0m\u001b[0m\n\u001b[0m\u001b[1;32m     40\u001b[0m \u001b[0;34m\u001b[0m\u001b[0m\n\u001b[1;32m     41\u001b[0m \u001b[0;34m\u001b[0m\u001b[0m\n",
      "\u001b[0;31mValueError\u001b[0m: operands could not be broadcast together with shapes (12,) (2,2) "
     ]
    }
   ],
   "source": [
    "# Importing Stuff\n",
    "import numpy as np\n",
    "\n",
    "# Setting our Variables\n",
    "_=0\n",
    "A=1\n",
    "B=2\n",
    "C=3\n",
    "D=4\n",
    "E=5\n",
    "F=6\n",
    "G=7\n",
    "H=8\n",
    "I=9\n",
    "J=10\n",
    "K=11\n",
    "L=12\n",
    "M=13\n",
    "N=14\n",
    "O=15\n",
    "P=16\n",
    "Q=17\n",
    "R=18\n",
    "S=19\n",
    "T=20\n",
    "U=21\n",
    "V=22\n",
    "W=23\n",
    "X=24\n",
    "Y=25\n",
    "Z=26\n",
    "\n",
    "# Defining the Message & Encoding Matrix\n",
    "msg=[C,A,B,B,A,G,E,_,H,E,A,D]\n",
    "enc=[[1,2],[3,4]]\n",
    "\n",
    "# Coding the Message\n",
    "mtrx=np.array(msg)\n",
    "code=mtrx*enc\n",
    "\n",
    "\n",
    "# Printing our Results\n",
    "print(code)\n",
    "\n"
   ]
  },
  {
   "cell_type": "code",
   "execution_count": null,
   "metadata": {},
   "outputs": [],
   "source": []
  }
 ],
 "metadata": {
  "kernelspec": {
   "display_name": "Python 3",
   "language": "python",
   "name": "python3"
  },
  "language_info": {
   "codemirror_mode": {
    "name": "ipython",
    "version": 3
   },
   "file_extension": ".py",
   "mimetype": "text/x-python",
   "name": "python",
   "nbconvert_exporter": "python",
   "pygments_lexer": "ipython3",
   "version": "3.7.0"
  }
 },
 "nbformat": 4,
 "nbformat_minor": 2
}
